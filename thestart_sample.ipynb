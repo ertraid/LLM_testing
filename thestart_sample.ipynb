{
 "cells": [
  {
   "cell_type": "markdown",
   "metadata": {},
   "source": [
    "Parse a long text into sentences and do sentiment analisys on each sentence using an LLM form HF"
   ]
  },
  {
   "cell_type": "code",
   "execution_count": 6,
   "metadata": {},
   "outputs": [
    {
     "name": "stdout",
     "output_type": "stream",
     "text": [
      "To some, its a cry for the repatriation of a people kicked to the outskirts of a land they call home. To others, its a genocidal refrain, verbalizing a desire to purge the Jews from Israel. Since the onset of the Israel-Hamas war Oct. 7, the phrase has been used during anti-war demonstrations alongside calls for an end to Israelâ€™s bombardment campaign in Gaza, during which more than 10,000 Palestinians have died, according to the Hamas-run Gaza Health Ministry. In Toronto and around the world, the words have been belted by demonstrators in the tens of thousands.  And it has drawn intense scrutiny. The line references the area between the Jordan River, to the east of Israel, and the Mediterranean Sea to the west, and itâ€™s been used as a slogan since the 1960s. It was used first by nationalist movements such as the Palestine Liberation Organization, which, at the time, sought the elimination of Israel but which now advocates for a two-state solution. Today, itâ€™s used by pro-Palestinian groups and people from a wide spectrum of political philosophies. There are those who have called it an aspirational call for freedom. Yet to other ears, it comes with the darkest of overtones. The fiercest critics see it as an endorsement of Hamas, which was responsible for the massacre of more than 1,400 Israelis and the kidnapping of 240 more last month, sparking the current war. In 2012, the head of Hamas at the time, Khaled Meshal, delivered a defiant speech in Gaza City, calling for the establishment of an Islamic Palestinian state on Israeli land. Palestine is ours from the river to the sea and from the south to the north, he said. There will be no concession on any inch of the land. In an online post, the Centre for Israel and Jewish Affairs (CIJA) labelled the slogan as a call to genocide, for violence against all who support a Jewish state, and for death to all Jewish people â€” in Israel, Canada, and everywhere. Late Tuesday, the U.S. House of Representatives voted to censure Democratic Rep. Rashida Tlaib, the sole Palestinian American in Congress, for her comments on the war.\n"
     ]
    },
    {
     "data": {
      "text/html": [
       "<div>\n",
       "<style scoped>\n",
       "    .dataframe tbody tr th:only-of-type {\n",
       "        vertical-align: middle;\n",
       "    }\n",
       "\n",
       "    .dataframe tbody tr th {\n",
       "        vertical-align: top;\n",
       "    }\n",
       "\n",
       "    .dataframe thead th {\n",
       "        text-align: right;\n",
       "    }\n",
       "</style>\n",
       "<table border=\"1\" class=\"dataframe\">\n",
       "  <thead>\n",
       "    <tr style=\"text-align: right;\">\n",
       "      <th></th>\n",
       "      <th>text</th>\n",
       "    </tr>\n",
       "  </thead>\n",
       "  <tbody>\n",
       "    <tr>\n",
       "      <th>0</th>\n",
       "      <td>To some, its a cry for the repatriation of a p...</td>\n",
       "    </tr>\n",
       "    <tr>\n",
       "      <th>1</th>\n",
       "      <td>To others, its a genocidal refrain, verbalizin...</td>\n",
       "    </tr>\n",
       "    <tr>\n",
       "      <th>2</th>\n",
       "      <td>Since the onset of the Israel-Hamas war Oct. 7...</td>\n",
       "    </tr>\n",
       "    <tr>\n",
       "      <th>3</th>\n",
       "      <td>In Toronto and around the world, the words hav...</td>\n",
       "    </tr>\n",
       "    <tr>\n",
       "      <th>4</th>\n",
       "      <td>And it has drawn intense scrutiny.</td>\n",
       "    </tr>\n",
       "  </tbody>\n",
       "</table>\n",
       "</div>"
      ],
      "text/plain": [
       "                                                text\n",
       "0  To some, its a cry for the repatriation of a p...\n",
       "1  To others, its a genocidal refrain, verbalizin...\n",
       "2  Since the onset of the Israel-Hamas war Oct. 7...\n",
       "3  In Toronto and around the world, the words hav...\n",
       "4                 And it has drawn intense scrutiny."
      ]
     },
     "execution_count": 6,
     "metadata": {},
     "output_type": "execute_result"
    }
   ],
   "source": [
    "''' \n",
    "Use NLTK to parse teh text into senteces\n",
    "'''\n",
    "# ! pip install nltk\n",
    "# ! pip install pandas\n",
    "import nltk\n",
    "#nltk.download('punkt')\n",
    "import pandas as pd\n",
    "with open('theStart_sample.txt') as file:       # using with, no need to close\n",
    "    text = file.read()\n",
    "print (text)\n",
    "\n",
    "sentenses = pd.DataFrame(nltk.sent_tokenize(text), columns=[\"text\"])       # parse into sentences\n",
    "sentenses.head()\n"
   ]
  },
  {
   "cell_type": "code",
   "execution_count": 5,
   "metadata": {},
   "outputs": [
    {
     "name": "stderr",
     "output_type": "stream",
     "text": [
      "All PyTorch model weights were used when initializing TFDistilBertForSequenceClassification.\n",
      "\n",
      "All the weights of TFDistilBertForSequenceClassification were initialized from the PyTorch model.\n",
      "If your task is similar to the task the model of the checkpoint was trained on, you can already use TFDistilBertForSequenceClassification for predictions without further training.\n"
     ]
    },
    {
     "data": {
      "text/html": [
       "<div>\n",
       "<style scoped>\n",
       "    .dataframe tbody tr th:only-of-type {\n",
       "        vertical-align: middle;\n",
       "    }\n",
       "\n",
       "    .dataframe tbody tr th {\n",
       "        vertical-align: top;\n",
       "    }\n",
       "\n",
       "    .dataframe thead th {\n",
       "        text-align: right;\n",
       "    }\n",
       "</style>\n",
       "<table border=\"1\" class=\"dataframe\">\n",
       "  <thead>\n",
       "    <tr style=\"text-align: right;\">\n",
       "      <th></th>\n",
       "      <th>text</th>\n",
       "      <th>sent</th>\n",
       "    </tr>\n",
       "  </thead>\n",
       "  <tbody>\n",
       "    <tr>\n",
       "      <th>0</th>\n",
       "      <td>To some, its a cry for the repatriation of a p...</td>\n",
       "      <td>{'label': 'NEGATIVE', 'score': 0.9675443768501...</td>\n",
       "    </tr>\n",
       "    <tr>\n",
       "      <th>1</th>\n",
       "      <td>To others, its a genocidal refrain, verbalizin...</td>\n",
       "      <td>{'label': 'NEGATIVE', 'score': 0.6757856011390...</td>\n",
       "    </tr>\n",
       "    <tr>\n",
       "      <th>2</th>\n",
       "      <td>Since the onset of the Israel-Hamas war Oct. 7...</td>\n",
       "      <td>{'label': 'NEGATIVE', 'score': 0.9858497977256...</td>\n",
       "    </tr>\n",
       "    <tr>\n",
       "      <th>3</th>\n",
       "      <td>In Toronto and around the world, the words hav...</td>\n",
       "      <td>{'label': 'POSITIVE', 'score': 0.9943371415138...</td>\n",
       "    </tr>\n",
       "    <tr>\n",
       "      <th>4</th>\n",
       "      <td>And it has drawn intense scrutiny.</td>\n",
       "      <td>{'label': 'NEGATIVE', 'score': 0.6548036932945...</td>\n",
       "    </tr>\n",
       "  </tbody>\n",
       "</table>\n",
       "</div>"
      ],
      "text/plain": [
       "                                                text  \\\n",
       "0  To some, its a cry for the repatriation of a p...   \n",
       "1  To others, its a genocidal refrain, verbalizin...   \n",
       "2  Since the onset of the Israel-Hamas war Oct. 7...   \n",
       "3  In Toronto and around the world, the words hav...   \n",
       "4                 And it has drawn intense scrutiny.   \n",
       "\n",
       "                                                sent  \n",
       "0  {'label': 'NEGATIVE', 'score': 0.9675443768501...  \n",
       "1  {'label': 'NEGATIVE', 'score': 0.6757856011390...  \n",
       "2  {'label': 'NEGATIVE', 'score': 0.9858497977256...  \n",
       "3  {'label': 'POSITIVE', 'score': 0.9943371415138...  \n",
       "4  {'label': 'NEGATIVE', 'score': 0.6548036932945...  "
      ]
     },
     "execution_count": 5,
     "metadata": {},
     "output_type": "execute_result"
    }
   ],
   "source": [
    "\n",
    "''' \n",
    "Use LLM from HF to perform sentimient analysis in each sentence\n",
    "'''\n",
    "\n",
    "\n",
    "from transformers import pipeline       'HuggingFace\n",
    "\n",
    "classifier = pipeline(\"sentiment-analysis\",\"distilbert-base-uncased-finetuned-sst-2-english\")\n",
    "sentenses[\"sent\"] = classifier(list(sentenses[\"text\"]))\n",
    "sentenses.head()"
   ]
  },
  {
   "cell_type": "code",
   "execution_count": null,
   "metadata": {},
   "outputs": [],
   "source": []
  }
 ],
 "metadata": {
  "kernelspec": {
   "display_name": ".venv",
   "language": "python",
   "name": "python3"
  },
  "language_info": {
   "codemirror_mode": {
    "name": "ipython",
    "version": 3
   },
   "file_extension": ".py",
   "mimetype": "text/x-python",
   "name": "python",
   "nbconvert_exporter": "python",
   "pygments_lexer": "ipython3",
   "version": "3.11.5"
  }
 },
 "nbformat": 4,
 "nbformat_minor": 2
}
